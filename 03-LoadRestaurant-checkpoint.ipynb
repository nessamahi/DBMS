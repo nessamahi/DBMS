{
 "cells": [
  {
   "cell_type": "markdown",
   "metadata": {},
   "source": [
    "##### Dependencies\n",
    "____"
   ]
  },
  {
   "cell_type": "code",
   "execution_count": 1,
   "metadata": {},
   "outputs": [],
   "source": [
    "import numpy as np\n",
    "import pandas as pd\n",
    "import sqlalchemy as db\n",
    "import datetime\n",
    "import random\n",
    "\n",
    "from faker import Faker"
   ]
  },
  {
   "cell_type": "markdown",
   "metadata": {},
   "source": [
    "##### Database connection\n",
    "____"
   ]
  },
  {
   "cell_type": "code",
   "execution_count": 2,
   "metadata": {},
   "outputs": [],
   "source": [
    "g_params = {\n",
    "    'dbuser'   : 'csc4710',\n",
    "    'dbpwd'    : 'password',\n",
    "    'dbserver' : 'localhost',\n",
    "    'dbport'   : 3306,\n",
    "    'dbname'   : 'CSC4710'\n",
    "}\n",
    "\n",
    "disk_engine = db.create_engine(f'mysql+pymysql://{g_params[\"dbuser\"]}:{g_params[\"dbpwd\"]}@{g_params[\"dbserver\"]}:{g_params[\"dbport\"]}/{g_params[\"dbname\"]}', echo=False)\n",
    "disk_engine.connect().connection.ping()"
   ]
  },
  {
   "cell_type": "markdown",
   "metadata": {},
   "source": [
    "##### Load Address Dataframe\n",
    "____"
   ]
  },
  {
   "cell_type": "code",
   "execution_count": 3,
   "metadata": {},
   "outputs": [
    {
     "data": {
      "text/html": [
       "<div>\n",
       "<style scoped>\n",
       "    .dataframe tbody tr th:only-of-type {\n",
       "        vertical-align: middle;\n",
       "    }\n",
       "\n",
       "    .dataframe tbody tr th {\n",
       "        vertical-align: top;\n",
       "    }\n",
       "\n",
       "    .dataframe thead th {\n",
       "        text-align: right;\n",
       "    }\n",
       "</style>\n",
       "<table border=\"1\" class=\"dataframe\">\n",
       "  <thead>\n",
       "    <tr style=\"text-align: right;\">\n",
       "      <th></th>\n",
       "      <th>id</th>\n",
       "      <th>street</th>\n",
       "      <th>city</th>\n",
       "      <th>state</th>\n",
       "      <th>zipcode</th>\n",
       "      <th>latitude</th>\n",
       "      <th>longitude</th>\n",
       "    </tr>\n",
       "  </thead>\n",
       "  <tbody>\n",
       "    <tr>\n",
       "      <th>0</th>\n",
       "      <td>1</td>\n",
       "      <td>3393 PEACHTREE RD NE @LENOX MALL</td>\n",
       "      <td>Atlanta</td>\n",
       "      <td>GA</td>\n",
       "      <td>30326-1109</td>\n",
       "      <td>33.848900</td>\n",
       "      <td>-84.364480</td>\n",
       "    </tr>\n",
       "    <tr>\n",
       "      <th>1</th>\n",
       "      <td>2</td>\n",
       "      <td>2328 CAMPBELLTON RD SW</td>\n",
       "      <td>Atlanta</td>\n",
       "      <td>GA</td>\n",
       "      <td>30311-4610</td>\n",
       "      <td>33.704306</td>\n",
       "      <td>-84.464564</td>\n",
       "    </tr>\n",
       "    <tr>\n",
       "      <th>2</th>\n",
       "      <td>3</td>\n",
       "      <td>775 FORMWALT ST SW</td>\n",
       "      <td>Atlanta</td>\n",
       "      <td>GA</td>\n",
       "      <td>30315-1018</td>\n",
       "      <td>33.733716</td>\n",
       "      <td>-84.395890</td>\n",
       "    </tr>\n",
       "    <tr>\n",
       "      <th>3</th>\n",
       "      <td>4</td>\n",
       "      <td>3500 PEACHTREE RD NE @PHIPPS PLAZA</td>\n",
       "      <td>Cambridge</td>\n",
       "      <td>GA</td>\n",
       "      <td>N1S 4W3</td>\n",
       "      <td>43.339163</td>\n",
       "      <td>-80.336550</td>\n",
       "    </tr>\n",
       "    <tr>\n",
       "      <th>4</th>\n",
       "      <td>5</td>\n",
       "      <td>3660 CAMP CREEK PKWY SW</td>\n",
       "      <td>Atlanta</td>\n",
       "      <td>GA</td>\n",
       "      <td>30331-6261</td>\n",
       "      <td>33.654349</td>\n",
       "      <td>-84.508164</td>\n",
       "    </tr>\n",
       "  </tbody>\n",
       "</table>\n",
       "</div>"
      ],
      "text/plain": [
       "   id                              street       city state     zipcode  \\\n",
       "0   1    3393 PEACHTREE RD NE @LENOX MALL    Atlanta    GA  30326-1109   \n",
       "1   2              2328 CAMPBELLTON RD SW    Atlanta    GA  30311-4610   \n",
       "2   3                  775 FORMWALT ST SW    Atlanta    GA  30315-1018   \n",
       "3   4  3500 PEACHTREE RD NE @PHIPPS PLAZA  Cambridge    GA     N1S 4W3   \n",
       "4   5             3660 CAMP CREEK PKWY SW    Atlanta    GA  30331-6261   \n",
       "\n",
       "    latitude  longitude  \n",
       "0  33.848900 -84.364480  \n",
       "1  33.704306 -84.464564  \n",
       "2  33.733716 -84.395890  \n",
       "3  43.339163 -80.336550  \n",
       "4  33.654349 -84.508164  "
      ]
     },
     "execution_count": 3,
     "metadata": {},
     "output_type": "execute_result"
    }
   ],
   "source": [
    "address = pd.read_sql_table(table_name='address', con=disk_engine)\n",
    "\n",
    "address.head(5)"
   ]
  },
  {
   "cell_type": "markdown",
   "metadata": {},
   "source": [
    "##### Load Employee Dataframe\n",
    "____"
   ]
  },
  {
   "cell_type": "code",
   "execution_count": 8,
   "metadata": {},
   "outputs": [
    {
     "data": {
      "text/html": [
       "<div>\n",
       "<style scoped>\n",
       "    .dataframe tbody tr th:only-of-type {\n",
       "        vertical-align: middle;\n",
       "    }\n",
       "\n",
       "    .dataframe tbody tr th {\n",
       "        vertical-align: top;\n",
       "    }\n",
       "\n",
       "    .dataframe thead th {\n",
       "        text-align: right;\n",
       "    }\n",
       "</style>\n",
       "<table border=\"1\" class=\"dataframe\">\n",
       "  <thead>\n",
       "    <tr style=\"text-align: right;\">\n",
       "      <th></th>\n",
       "      <th>id</th>\n",
       "      <th>firstname</th>\n",
       "      <th>lastname</th>\n",
       "      <th>ssn</th>\n",
       "      <th>holiday_status</th>\n",
       "      <th>phone</th>\n",
       "      <th>address</th>\n",
       "      <th>supervisor</th>\n",
       "    </tr>\n",
       "  </thead>\n",
       "  <tbody>\n",
       "    <tr>\n",
       "      <th>0</th>\n",
       "      <td>59</td>\n",
       "      <td>Douglas</td>\n",
       "      <td>Nielsen</td>\n",
       "      <td>351-15-8394</td>\n",
       "      <td>off</td>\n",
       "      <td>001-127-456-4919x1080</td>\n",
       "      <td>51</td>\n",
       "      <td>NaN</td>\n",
       "    </tr>\n",
       "    <tr>\n",
       "      <th>1</th>\n",
       "      <td>60</td>\n",
       "      <td>Nicholas</td>\n",
       "      <td>Mclean</td>\n",
       "      <td>895-57-5076</td>\n",
       "      <td>off</td>\n",
       "      <td>224-085-2090x674</td>\n",
       "      <td>16</td>\n",
       "      <td>NaN</td>\n",
       "    </tr>\n",
       "    <tr>\n",
       "      <th>2</th>\n",
       "      <td>61</td>\n",
       "      <td>Jacob</td>\n",
       "      <td>Anderson</td>\n",
       "      <td>833-60-3893</td>\n",
       "      <td>off</td>\n",
       "      <td>+1-016-699-8636x82196</td>\n",
       "      <td>78</td>\n",
       "      <td>NaN</td>\n",
       "    </tr>\n",
       "    <tr>\n",
       "      <th>3</th>\n",
       "      <td>62</td>\n",
       "      <td>Ricky</td>\n",
       "      <td>Wright</td>\n",
       "      <td>325-68-3681</td>\n",
       "      <td>off</td>\n",
       "      <td>951-355-5642x126</td>\n",
       "      <td>32</td>\n",
       "      <td>NaN</td>\n",
       "    </tr>\n",
       "    <tr>\n",
       "      <th>4</th>\n",
       "      <td>63</td>\n",
       "      <td>Kyle</td>\n",
       "      <td>Joyce</td>\n",
       "      <td>259-82-3313</td>\n",
       "      <td>off</td>\n",
       "      <td>575.977.0493</td>\n",
       "      <td>90</td>\n",
       "      <td>NaN</td>\n",
       "    </tr>\n",
       "  </tbody>\n",
       "</table>\n",
       "</div>"
      ],
      "text/plain": [
       "   id firstname  lastname          ssn holiday_status                  phone  \\\n",
       "0  59   Douglas   Nielsen  351-15-8394            off  001-127-456-4919x1080   \n",
       "1  60  Nicholas    Mclean  895-57-5076            off       224-085-2090x674   \n",
       "2  61     Jacob  Anderson  833-60-3893            off  +1-016-699-8636x82196   \n",
       "3  62     Ricky    Wright  325-68-3681            off       951-355-5642x126   \n",
       "4  63      Kyle     Joyce  259-82-3313            off           575.977.0493   \n",
       "\n",
       "   address  supervisor  \n",
       "0       51         NaN  \n",
       "1       16         NaN  \n",
       "2       78         NaN  \n",
       "3       32         NaN  \n",
       "4       90         NaN  "
      ]
     },
     "execution_count": 8,
     "metadata": {},
     "output_type": "execute_result"
    }
   ],
   "source": [
    "employees = pd.read_sql_table(table_name='employee', con=disk_engine)\n",
    "\n",
    "cond = employees['supervisor'].isna()\n",
    "\n",
    "employees = employees[cond]\n",
    "\n",
    "employees"
   ]
  },
  {
   "cell_type": "markdown",
   "metadata": {},
   "source": [
    "##### Add Restaurant Types\n",
    "____"
   ]
  },
  {
   "cell_type": "code",
   "execution_count": 12,
   "metadata": {},
   "outputs": [],
   "source": [
    "categories = ['Fast food', 'Fast casual', 'Casual dining', 'Premium casual', 'Family style', 'Fine dining']\n",
    "restaurant_types = []\n",
    "\n",
    "for item in categories:    \n",
    "    sql = \"INSERT INTO restaurant_types(category, description) VALUES (%s, %s)\"\n",
    "    values = (item, f'{item} description') \n",
    "    \n",
    "    restaurant_types.append(disk_engine.execute(sql, values).lastrowid)"
   ]
  },
  {
   "cell_type": "markdown",
   "metadata": {},
   "source": [
    "##### Add Restaurant\n",
    "____"
   ]
  },
  {
   "cell_type": "code",
   "execution_count": 17,
   "metadata": {},
   "outputs": [],
   "source": [
    "total = 1\n",
    "faker = Faker(locale='en_US')\n",
    "\n",
    "for i in range(1, total+1):\n",
    "    rest_type   = random.sample(restaurant_types, 1)[0]\n",
    "    manager     = int(employees['id'].sample(n=1).values[0])\n",
    "    rest_addr   = int(address['id'].sample(n=1).values[0])\n",
    "    name        = f'Auto generated {rest_type}'\n",
    "    phone       = faker.phone_number()\n",
    "    website     = faker.url()\n",
    "    status      = 'open'\n",
    "    open_at     = '09:00:00'\n",
    "    close_at    = '22:00:00'\n",
    "    day_of_week = 127                      #1 = Sunday, 2 = Monday, 4 = Tuesday, 8 = Wednesday, 16 = Thursday, 32 = Friday, 64 = Saturday\n",
    "    \n",
    "    sql = \"INSERT INTO restaurant(type, manager, address, name, phone, website, status, open, close, day_of_week) VALUES (%s, %s, %s, %s, %s, %s, %s, %s, %s, %s)\"\n",
    "    values = (rest_type, manager, rest_addr, name, phone, website, status, open_at, close_at, day_of_week) \n",
    "    \n",
    "    disk_engine.execute(sql, values)    "
   ]
  },
  {
   "cell_type": "code",
   "execution_count": null,
   "metadata": {},
   "outputs": [],
   "source": []
  }
 ],
 "metadata": {
  "kernelspec": {
   "display_name": "Python 3",
   "language": "python",
   "name": "python3"
  },
  "language_info": {
   "codemirror_mode": {
    "name": "ipython",
    "version": 3
   },
   "file_extension": ".py",
   "mimetype": "text/x-python",
   "name": "python",
   "nbconvert_exporter": "python",
   "pygments_lexer": "ipython3",
   "version": "3.7.6"
  }
 },
 "nbformat": 4,
 "nbformat_minor": 4
}
