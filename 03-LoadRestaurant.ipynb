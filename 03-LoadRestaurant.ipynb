{
 "cells": [
  {
   "cell_type": "markdown",
   "metadata": {},
   "source": [
    "##### Dependencies\n",
    "____"
   ]
  },
  {
   "cell_type": "code",
   "execution_count": 18,
   "metadata": {},
   "outputs": [],
   "source": [
    "import numpy as np\n",
    "import pandas as pd\n",
    "import sqlalchemy as db\n",
    "import datetime\n",
    "import random\n",
    "\n",
    "from faker import Faker"
   ]
  },
  {
   "cell_type": "markdown",
   "metadata": {},
   "source": [
    "##### Database connection\n",
    "____"
   ]
  },
  {
   "cell_type": "code",
   "execution_count": 19,
   "metadata": {},
   "outputs": [],
   "source": [
    "g_params = {\n",
    "    'dbuser'   : 'csc4710',\n",
    "    'dbpwd'    : 'password',\n",
    "    'dbserver' : 'localhost',\n",
    "    'dbport'   : 3306,\n",
    "    'dbname'   : 'CSC4710'\n",
    "}\n",
    "\n",
    "disk_engine = db.create_engine(f'mysql+pymysql://{g_params[\"dbuser\"]}:{g_params[\"dbpwd\"]}@{g_params[\"dbserver\"]}:{g_params[\"dbport\"]}/{g_params[\"dbname\"]}', echo=False)\n",
    "disk_engine.connect().connection.ping()"
   ]
  },
  {
   "cell_type": "markdown",
   "metadata": {},
   "source": [
    "##### Load Address Dataframe\n",
    "____"
   ]
  },
  {
   "cell_type": "code",
   "execution_count": 20,
   "metadata": {},
   "outputs": [
    {
     "data": {
      "text/html": [
       "<div>\n",
       "<style scoped>\n",
       "    .dataframe tbody tr th:only-of-type {\n",
       "        vertical-align: middle;\n",
       "    }\n",
       "\n",
       "    .dataframe tbody tr th {\n",
       "        vertical-align: top;\n",
       "    }\n",
       "\n",
       "    .dataframe thead th {\n",
       "        text-align: right;\n",
       "    }\n",
       "</style>\n",
       "<table border=\"1\" class=\"dataframe\">\n",
       "  <thead>\n",
       "    <tr style=\"text-align: right;\">\n",
       "      <th></th>\n",
       "      <th>id</th>\n",
       "      <th>street</th>\n",
       "      <th>city</th>\n",
       "      <th>state</th>\n",
       "      <th>zipcode</th>\n",
       "      <th>latitude</th>\n",
       "      <th>longitude</th>\n",
       "    </tr>\n",
       "  </thead>\n",
       "  <tbody>\n",
       "    <tr>\n",
       "      <th>0</th>\n",
       "      <td>1</td>\n",
       "      <td>2175 PIEDMONT RD NE</td>\n",
       "      <td>Atlanta</td>\n",
       "      <td>GA</td>\n",
       "      <td>30324-4128</td>\n",
       "      <td>33.817098</td>\n",
       "      <td>-84.366785</td>\n",
       "    </tr>\n",
       "    <tr>\n",
       "      <th>1</th>\n",
       "      <td>2</td>\n",
       "      <td>306 LUCKIE ST NW</td>\n",
       "      <td>Atlanta</td>\n",
       "      <td>GA</td>\n",
       "      <td>30313-1706</td>\n",
       "      <td>33.762858</td>\n",
       "      <td>-84.395977</td>\n",
       "    </tr>\n",
       "    <tr>\n",
       "      <th>2</th>\n",
       "      <td>3</td>\n",
       "      <td>227 WELLINGTON ST SW</td>\n",
       "      <td>Atlanta</td>\n",
       "      <td>GA</td>\n",
       "      <td>30314-2240</td>\n",
       "      <td>33.749008</td>\n",
       "      <td>-84.438294</td>\n",
       "    </tr>\n",
       "    <tr>\n",
       "      <th>3</th>\n",
       "      <td>4</td>\n",
       "      <td>1125 CASCADE CIR SW @ZONE 4</td>\n",
       "      <td>Atlanta</td>\n",
       "      <td>GA</td>\n",
       "      <td>30311-2817</td>\n",
       "      <td>33.724948</td>\n",
       "      <td>-84.449931</td>\n",
       "    </tr>\n",
       "    <tr>\n",
       "      <th>4</th>\n",
       "      <td>5</td>\n",
       "      <td>469 FAIR ST SW</td>\n",
       "      <td>Atlanta</td>\n",
       "      <td>GA</td>\n",
       "      <td>30313-1203</td>\n",
       "      <td>33.748725</td>\n",
       "      <td>-84.403206</td>\n",
       "    </tr>\n",
       "  </tbody>\n",
       "</table>\n",
       "</div>"
      ],
      "text/plain": [
       "   id                       street     city state     zipcode   latitude  \\\n",
       "0   1          2175 PIEDMONT RD NE  Atlanta    GA  30324-4128  33.817098   \n",
       "1   2             306 LUCKIE ST NW  Atlanta    GA  30313-1706  33.762858   \n",
       "2   3         227 WELLINGTON ST SW  Atlanta    GA  30314-2240  33.749008   \n",
       "3   4  1125 CASCADE CIR SW @ZONE 4  Atlanta    GA  30311-2817  33.724948   \n",
       "4   5               469 FAIR ST SW  Atlanta    GA  30313-1203  33.748725   \n",
       "\n",
       "   longitude  \n",
       "0 -84.366785  \n",
       "1 -84.395977  \n",
       "2 -84.438294  \n",
       "3 -84.449931  \n",
       "4 -84.403206  "
      ]
     },
     "execution_count": 20,
     "metadata": {},
     "output_type": "execute_result"
    }
   ],
   "source": [
    "address = pd.read_sql_table(table_name='address', con=disk_engine)\n",
    "\n",
    "address.head(5)"
   ]
  },
  {
   "cell_type": "markdown",
   "metadata": {},
   "source": [
    "##### Load Employee Dataframe\n",
    "____"
   ]
  },
  {
   "cell_type": "code",
   "execution_count": 21,
   "metadata": {},
   "outputs": [
    {
     "data": {
      "text/html": [
       "<div>\n",
       "<style scoped>\n",
       "    .dataframe tbody tr th:only-of-type {\n",
       "        vertical-align: middle;\n",
       "    }\n",
       "\n",
       "    .dataframe tbody tr th {\n",
       "        vertical-align: top;\n",
       "    }\n",
       "\n",
       "    .dataframe thead th {\n",
       "        text-align: right;\n",
       "    }\n",
       "</style>\n",
       "<table border=\"1\" class=\"dataframe\">\n",
       "  <thead>\n",
       "    <tr style=\"text-align: right;\">\n",
       "      <th></th>\n",
       "      <th>id</th>\n",
       "      <th>firstname</th>\n",
       "      <th>lastname</th>\n",
       "      <th>ssn</th>\n",
       "      <th>holiday_status</th>\n",
       "      <th>phone</th>\n",
       "      <th>address</th>\n",
       "      <th>supervisor</th>\n",
       "    </tr>\n",
       "  </thead>\n",
       "  <tbody>\n",
       "    <tr>\n",
       "      <th>0</th>\n",
       "      <td>1</td>\n",
       "      <td>Daniel</td>\n",
       "      <td>Mejia</td>\n",
       "      <td>749-96-2475</td>\n",
       "      <td>off</td>\n",
       "      <td>354-818-0021x8551</td>\n",
       "      <td>41</td>\n",
       "      <td>NaN</td>\n",
       "    </tr>\n",
       "    <tr>\n",
       "      <th>1</th>\n",
       "      <td>2</td>\n",
       "      <td>Richard</td>\n",
       "      <td>Johnson</td>\n",
       "      <td>660-08-9388</td>\n",
       "      <td>off</td>\n",
       "      <td>108.889.4800x2458</td>\n",
       "      <td>19</td>\n",
       "      <td>NaN</td>\n",
       "    </tr>\n",
       "    <tr>\n",
       "      <th>2</th>\n",
       "      <td>3</td>\n",
       "      <td>Kristi</td>\n",
       "      <td>Fernandez</td>\n",
       "      <td>869-09-5521</td>\n",
       "      <td>off</td>\n",
       "      <td>3246551265</td>\n",
       "      <td>28</td>\n",
       "      <td>NaN</td>\n",
       "    </tr>\n",
       "    <tr>\n",
       "      <th>3</th>\n",
       "      <td>4</td>\n",
       "      <td>Tyler</td>\n",
       "      <td>Freeman</td>\n",
       "      <td>270-34-6727</td>\n",
       "      <td>off</td>\n",
       "      <td>001-806-050-7647x41840</td>\n",
       "      <td>9</td>\n",
       "      <td>NaN</td>\n",
       "    </tr>\n",
       "    <tr>\n",
       "      <th>4</th>\n",
       "      <td>5</td>\n",
       "      <td>Kaitlin</td>\n",
       "      <td>Harrell</td>\n",
       "      <td>509-08-5361</td>\n",
       "      <td>off</td>\n",
       "      <td>0474937466</td>\n",
       "      <td>59</td>\n",
       "      <td>NaN</td>\n",
       "    </tr>\n",
       "  </tbody>\n",
       "</table>\n",
       "</div>"
      ],
      "text/plain": [
       "   id firstname   lastname          ssn holiday_status  \\\n",
       "0   1    Daniel      Mejia  749-96-2475            off   \n",
       "1   2   Richard    Johnson  660-08-9388            off   \n",
       "2   3    Kristi  Fernandez  869-09-5521            off   \n",
       "3   4     Tyler    Freeman  270-34-6727            off   \n",
       "4   5   Kaitlin    Harrell  509-08-5361            off   \n",
       "\n",
       "                    phone  address  supervisor  \n",
       "0       354-818-0021x8551       41         NaN  \n",
       "1       108.889.4800x2458       19         NaN  \n",
       "2              3246551265       28         NaN  \n",
       "3  001-806-050-7647x41840        9         NaN  \n",
       "4              0474937466       59         NaN  "
      ]
     },
     "execution_count": 21,
     "metadata": {},
     "output_type": "execute_result"
    }
   ],
   "source": [
    "employees = pd.read_sql_table(table_name='employee', con=disk_engine)\n",
    "\n",
    "cond = employees['supervisor'].isna()\n",
    "\n",
    "employees = employees[cond]\n",
    "\n",
    "employees"
   ]
  },
  {
   "cell_type": "markdown",
   "metadata": {},
   "source": [
    "##### Add Restaurant Types\n",
    "____"
   ]
  },
  {
   "cell_type": "code",
   "execution_count": 22,
   "metadata": {},
   "outputs": [],
   "source": [
    "categories = ['Fast food', 'Fast casual', 'Casual dining', 'Premium casual', 'Family style', 'Fine dining']\n",
    "restaurant_types = []\n",
    "\n",
    "for item in categories:    \n",
    "    sql = \"INSERT INTO restaurant_types(category, description) VALUES (%s, %s)\"\n",
    "    values = (item, f'{item} description') \n",
    "    \n",
    "    restaurant_types.append(disk_engine.execute(sql, values).lastrowid)"
   ]
  },
  {
   "cell_type": "markdown",
   "metadata": {},
   "source": [
    "##### Add Restaurant\n",
    "____"
   ]
  },
  {
   "cell_type": "code",
   "execution_count": 23,
   "metadata": {},
   "outputs": [],
   "source": [
    "total = 1\n",
    "faker = Faker(locale='en_US')\n",
    "\n",
    "for i in range(1, total+1):\n",
    "    rest_type   = random.sample(restaurant_types, 1)[0]\n",
    "    manager     = int(employees['id'].sample(n=1).values[0])\n",
    "    rest_addr   = int(address['id'].sample(n=1).values[0])\n",
    "    name        = f'Auto generated {rest_type}'\n",
    "    phone       = faker.phone_number()\n",
    "    website     = faker.url()\n",
    "    status      = 'open'\n",
    "    open_at     = '09:00:00'\n",
    "    close_at    = '22:00:00'\n",
    "    day_of_week = 127                      #1 = Sunday, 2 = Monday, 4 = Tuesday, 8 = Wednesday, 16 = Thursday, 32 = Friday, 64 = Saturday\n",
    "    \n",
    "    sql = \"INSERT INTO restaurant(type, manager, address, name, phone, website, status, open, close, day_of_week) VALUES (%s, %s, %s, %s, %s, %s, %s, %s, %s, %s)\"\n",
    "    values = (rest_type, manager, rest_addr, name, phone, website, status, open_at, close_at, day_of_week) \n",
    "    \n",
    "    disk_engine.execute(sql, values)    "
   ]
  },
  {
   "cell_type": "code",
   "execution_count": null,
   "metadata": {},
   "outputs": [],
   "source": []
  }
 ],
 "metadata": {
  "kernelspec": {
   "display_name": "Python 3",
   "language": "python",
   "name": "python3"
  },
  "language_info": {
   "codemirror_mode": {
    "name": "ipython",
    "version": 3
   },
   "file_extension": ".py",
   "mimetype": "text/x-python",
   "name": "python",
   "nbconvert_exporter": "python",
   "pygments_lexer": "ipython3",
   "version": "3.7.6"
  }
 },
 "nbformat": 4,
 "nbformat_minor": 4
}
