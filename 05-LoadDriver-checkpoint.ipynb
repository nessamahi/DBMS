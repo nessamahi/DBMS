{
 "cells": [
  {
   "cell_type": "markdown",
   "metadata": {},
   "source": [
    "##### Dependencies\n",
    "____"
   ]
  },
  {
   "cell_type": "code",
   "execution_count": 4,
   "metadata": {},
   "outputs": [],
   "source": [
    "import numpy as np\n",
    "import pandas as pd\n",
    "import sqlalchemy as db\n",
    "import datetime\n",
    "import random\n",
    "\n",
    "from faker import Faker"
   ]
  },
  {
   "cell_type": "markdown",
   "metadata": {},
   "source": [
    "##### Database connection\n",
    "____"
   ]
  },
  {
   "cell_type": "code",
   "execution_count": 5,
   "metadata": {},
   "outputs": [],
   "source": [
    "g_params = {\n",
    "    'dbuser'   : 'csc4710',\n",
    "    'dbpwd'    : 'password',\n",
    "    'dbserver' : 'localhost',\n",
    "    'dbport'   : 3306,\n",
    "    'dbname'   : 'CSC4710'\n",
    "}\n",
    "\n",
    "disk_engine = db.create_engine(f'mysql+pymysql://{g_params[\"dbuser\"]}:{g_params[\"dbpwd\"]}@{g_params[\"dbserver\"]}:{g_params[\"dbport\"]}/{g_params[\"dbname\"]}', echo=False)\n",
    "disk_engine.connect().connection.ping()"
   ]
  },
  {
   "cell_type": "markdown",
   "metadata": {},
   "source": [
    "##### Add Driver\n",
    "____"
   ]
  },
  {
   "cell_type": "code",
   "execution_count": 6,
   "metadata": {},
   "outputs": [],
   "source": [
    "total = 5\n",
    "faker = Faker(locale='en_US')\n",
    "\n",
    "for i in range(1, total+1):\n",
    "    firstname  = faker.first_name()\n",
    "    lastname   = faker.last_name()\n",
    "    email      = faker.email()\n",
    "    phone      = faker.phone_number()\n",
    "    \n",
    "    sql = \"INSERT INTO driver(firstname, lastname, email, phone) VALUES (%s, %s, %s, %s)\"\n",
    "    values = (firstname, lastname, email, phone)\n",
    "    \n",
    "    disk_engine.execute(sql, values)"
   ]
  },
  {
   "cell_type": "code",
   "execution_count": null,
   "metadata": {},
   "outputs": [],
   "source": []
  }
 ],
 "metadata": {
  "kernelspec": {
   "display_name": "Python 3",
   "language": "python",
   "name": "python3"
  },
  "language_info": {
   "codemirror_mode": {
    "name": "ipython",
    "version": 3
   },
   "file_extension": ".py",
   "mimetype": "text/x-python",
   "name": "python",
   "nbconvert_exporter": "python",
   "pygments_lexer": "ipython3",
   "version": "3.7.6"
  }
 },
 "nbformat": 4,
 "nbformat_minor": 4
}
