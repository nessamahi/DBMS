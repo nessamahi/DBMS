{
 "cells": [
  {
   "cell_type": "markdown",
   "metadata": {},
   "source": [
    "##### Dependencies\n",
    "____"
   ]
  },
  {
   "cell_type": "code",
   "execution_count": 28,
   "metadata": {},
   "outputs": [],
   "source": [
    "import numpy as np\n",
    "import pandas as pd\n",
    "import sqlalchemy as db\n",
    "import datetime\n",
    "import random\n",
    "import hashlib\n",
    "\n",
    "from faker import Faker"
   ]
  },
  {
   "cell_type": "markdown",
   "metadata": {},
   "source": [
    "##### Database connection\n",
    "____"
   ]
  },
  {
   "cell_type": "code",
   "execution_count": 2,
   "metadata": {},
   "outputs": [],
   "source": [
    "g_params = {\n",
    "    'dbuser'   : 'csc4710',\n",
    "    'dbpwd'    : 'password',\n",
    "    'dbserver' : 'localhost',\n",
    "    'dbport'   : 3306,\n",
    "    'dbname'   : 'CSC4710'\n",
    "}\n",
    "\n",
    "disk_engine = db.create_engine(f'mysql+pymysql://{g_params[\"dbuser\"]}:{g_params[\"dbpwd\"]}@{g_params[\"dbserver\"]}:{g_params[\"dbport\"]}/{g_params[\"dbname\"]}', echo=False)\n",
    "disk_engine.connect().connection.ping()"
   ]
  },
  {
   "cell_type": "markdown",
   "metadata": {},
   "source": [
    "##### Load Credentials Dataframe\n",
    "____"
   ]
  },
  {
   "cell_type": "code",
   "execution_count": 3,
   "metadata": {},
   "outputs": [
    {
     "data": {
      "text/html": [
       "<div>\n",
       "<style scoped>\n",
       "    .dataframe tbody tr th:only-of-type {\n",
       "        vertical-align: middle;\n",
       "    }\n",
       "\n",
       "    .dataframe tbody tr th {\n",
       "        vertical-align: top;\n",
       "    }\n",
       "\n",
       "    .dataframe thead th {\n",
       "        text-align: right;\n",
       "    }\n",
       "</style>\n",
       "<table border=\"1\" class=\"dataframe\">\n",
       "  <thead>\n",
       "    <tr style=\"text-align: right;\">\n",
       "      <th></th>\n",
       "      <th>userid</th>\n",
       "      <th>password</th>\n",
       "      <th>employee_id</th>\n",
       "      <th>driver_id</th>\n",
       "      <th>customer_id</th>\n",
       "      <th>role</th>\n",
       "    </tr>\n",
       "  </thead>\n",
       "  <tbody>\n",
       "    <tr>\n",
       "      <th>0</th>\n",
       "      <td>1</td>\n",
       "      <td>ccd537fc55c7bfa0c64910999ae28ea12823439ce7394d...</td>\n",
       "      <td>1.0</td>\n",
       "      <td>NaN</td>\n",
       "      <td>NaN</td>\n",
       "      <td>employee</td>\n",
       "    </tr>\n",
       "    <tr>\n",
       "      <th>1</th>\n",
       "      <td>2</td>\n",
       "      <td>eed6735ba9b046d3a275e87124fbe8c3e49b5928b484cc...</td>\n",
       "      <td>2.0</td>\n",
       "      <td>NaN</td>\n",
       "      <td>NaN</td>\n",
       "      <td>employee</td>\n",
       "    </tr>\n",
       "    <tr>\n",
       "      <th>2</th>\n",
       "      <td>3</td>\n",
       "      <td>27c410d2a6124f27f16b5d0a521249be3eec7ab24d5f91...</td>\n",
       "      <td>3.0</td>\n",
       "      <td>NaN</td>\n",
       "      <td>NaN</td>\n",
       "      <td>employee</td>\n",
       "    </tr>\n",
       "    <tr>\n",
       "      <th>3</th>\n",
       "      <td>4</td>\n",
       "      <td>855fb422ee1f140faf1837005435858554b90bf2521a1a...</td>\n",
       "      <td>4.0</td>\n",
       "      <td>NaN</td>\n",
       "      <td>NaN</td>\n",
       "      <td>employee</td>\n",
       "    </tr>\n",
       "    <tr>\n",
       "      <th>4</th>\n",
       "      <td>5</td>\n",
       "      <td>9a432d3d6b2bf4b422a6e9b22f5e49668ef621236aa882...</td>\n",
       "      <td>5.0</td>\n",
       "      <td>NaN</td>\n",
       "      <td>NaN</td>\n",
       "      <td>employee</td>\n",
       "    </tr>\n",
       "  </tbody>\n",
       "</table>\n",
       "</div>"
      ],
      "text/plain": [
       "   userid                                           password  employee_id  \\\n",
       "0       1  ccd537fc55c7bfa0c64910999ae28ea12823439ce7394d...          1.0   \n",
       "1       2  eed6735ba9b046d3a275e87124fbe8c3e49b5928b484cc...          2.0   \n",
       "2       3  27c410d2a6124f27f16b5d0a521249be3eec7ab24d5f91...          3.0   \n",
       "3       4  855fb422ee1f140faf1837005435858554b90bf2521a1a...          4.0   \n",
       "4       5  9a432d3d6b2bf4b422a6e9b22f5e49668ef621236aa882...          5.0   \n",
       "\n",
       "   driver_id  customer_id      role  \n",
       "0        NaN          NaN  employee  \n",
       "1        NaN          NaN  employee  \n",
       "2        NaN          NaN  employee  \n",
       "3        NaN          NaN  employee  \n",
       "4        NaN          NaN  employee  "
      ]
     },
     "execution_count": 3,
     "metadata": {},
     "output_type": "execute_result"
    }
   ],
   "source": [
    "credentials = pd.read_sql_table(table_name='credentials', con=disk_engine)\n",
    "\n",
    "credentials.head(5)"
   ]
  },
  {
   "cell_type": "markdown",
   "metadata": {},
   "source": [
    "##### Add Payment Method\n",
    "____"
   ]
  },
  {
   "cell_type": "code",
   "execution_count": 30,
   "metadata": {},
   "outputs": [],
   "source": [
    "faker = Faker(locale='en_US')\n",
    "\n",
    "for ind in credentials.index:    \n",
    "    \n",
    "    userid = credentials['userid'][ind].__int__()\n",
    "    \n",
    "    payment_method = random.randint(1, 3)\n",
    "    \n",
    "    if (payment_method == 1):\n",
    "        credit_card_number = hashlib.sha256(faker.credit_card_number().encode()).hexdigest()        \n",
    "        branch             = faker.credit_card_provider()\n",
    "        expiration_month   = faker.credit_card_expire().split('/')[0]\n",
    "        expiration_year    = faker.credit_card_expire().split('/')[1]\n",
    "        \n",
    "        sql = \"INSERT INTO credit_card(credit_card_id, branch, expiration_month, expiration_year) VALUES (%s, %s, %s, %s)\"\n",
    "        values = (credit_card_number, branch, expiration_month, expiration_year)\n",
    "    \n",
    "        disk_engine.execute(sql, values)\n",
    "        \n",
    "        sql = \"INSERT INTO payment_method(userid, credit_card_id) VALUES (%s, %s)\"\n",
    "        values = (userid, credit_card_number)\n",
    "        \n",
    "        disk_engine.execute(sql, values)\n",
    "        \n",
    "    elif (payment_method == 2):\n",
    "        comments = 'Autogenerated'\n",
    "        uid     = faker.sha256()\n",
    "        \n",
    "        sql = \"INSERT INTO paypal(comments, uid) VALUES (%s, %s)\"\n",
    "        values = (comments, uid)\n",
    "    \n",
    "        paypal_id = disk_engine.execute(sql, values).lastrowid\n",
    "        \n",
    "        sql = \"INSERT INTO payment_method(userid, paypal_id) VALUES (%s, %s)\"\n",
    "        values = (userid, paypal_id)\n",
    "        \n",
    "        disk_engine.execute(sql, values)\n",
    "        \n",
    "    else:\n",
    "        comments = 'Autogenerated'\n",
    "        uid     = faker.sha256()\n",
    "        \n",
    "        sql = \"INSERT INTO google_pay(comments, uid) VALUES (%s, %s)\"\n",
    "        values = (comments, uid)\n",
    "    \n",
    "        google_id = disk_engine.execute(sql, values).lastrowid\n",
    "        \n",
    "        sql = \"INSERT INTO payment_method(userid, google_pay_id) VALUES (%s, %s)\"\n",
    "        values = (userid, google_id)\n",
    "        \n",
    "        disk_engine.execute(sql, values)        \n"
   ]
  },
  {
   "cell_type": "code",
   "execution_count": null,
   "metadata": {},
   "outputs": [],
   "source": []
  },
  {
   "cell_type": "code",
   "execution_count": null,
   "metadata": {},
   "outputs": [],
   "source": []
  },
  {
   "cell_type": "code",
   "execution_count": null,
   "metadata": {},
   "outputs": [],
   "source": []
  }
 ],
 "metadata": {
  "kernelspec": {
   "display_name": "Python 3",
   "language": "python",
   "name": "python3"
  },
  "language_info": {
   "codemirror_mode": {
    "name": "ipython",
    "version": 3
   },
   "file_extension": ".py",
   "mimetype": "text/x-python",
   "name": "python",
   "nbconvert_exporter": "python",
   "pygments_lexer": "ipython3",
   "version": "3.7.6"
  }
 },
 "nbformat": 4,
 "nbformat_minor": 4
}
