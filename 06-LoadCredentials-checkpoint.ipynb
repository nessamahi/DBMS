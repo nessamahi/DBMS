{
 "cells": [
  {
   "cell_type": "markdown",
   "metadata": {},
   "source": [
    "##### Dependencies\n",
    "____"
   ]
  },
  {
   "cell_type": "code",
   "execution_count": 36,
   "metadata": {},
   "outputs": [],
   "source": [
    "import numpy as np\n",
    "import pandas as pd\n",
    "import sqlalchemy as db\n",
    "import datetime\n",
    "import random\n",
    "import hashlib\n",
    "\n",
    "from faker import Faker"
   ]
  },
  {
   "cell_type": "markdown",
   "metadata": {},
   "source": [
    "##### Database connection\n",
    "____"
   ]
  },
  {
   "cell_type": "code",
   "execution_count": 37,
   "metadata": {},
   "outputs": [],
   "source": [
    "g_params = {\n",
    "    'dbuser'   : 'csc4710',\n",
    "    'dbpwd'    : 'password',\n",
    "    'dbserver' : 'localhost',\n",
    "    'dbport'   : 3306,\n",
    "    'dbname'   : 'CSC4710'\n",
    "}\n",
    "\n",
    "disk_engine = db.create_engine(f'mysql+pymysql://{g_params[\"dbuser\"]}:{g_params[\"dbpwd\"]}@{g_params[\"dbserver\"]}:{g_params[\"dbport\"]}/{g_params[\"dbname\"]}', echo=False)\n",
    "disk_engine.connect().connection.ping()"
   ]
  },
  {
   "cell_type": "markdown",
   "metadata": {},
   "source": [
    "##### Load Employee Dataframe\n",
    "____"
   ]
  },
  {
   "cell_type": "code",
   "execution_count": 38,
   "metadata": {},
   "outputs": [
    {
     "data": {
      "text/html": [
       "<div>\n",
       "<style scoped>\n",
       "    .dataframe tbody tr th:only-of-type {\n",
       "        vertical-align: middle;\n",
       "    }\n",
       "\n",
       "    .dataframe tbody tr th {\n",
       "        vertical-align: top;\n",
       "    }\n",
       "\n",
       "    .dataframe thead th {\n",
       "        text-align: right;\n",
       "    }\n",
       "</style>\n",
       "<table border=\"1\" class=\"dataframe\">\n",
       "  <thead>\n",
       "    <tr style=\"text-align: right;\">\n",
       "      <th></th>\n",
       "      <th>id</th>\n",
       "      <th>firstname</th>\n",
       "      <th>lastname</th>\n",
       "      <th>ssn</th>\n",
       "      <th>holiday_status</th>\n",
       "      <th>phone</th>\n",
       "      <th>address</th>\n",
       "      <th>supervisor</th>\n",
       "    </tr>\n",
       "  </thead>\n",
       "  <tbody>\n",
       "    <tr>\n",
       "      <th>0</th>\n",
       "      <td>1</td>\n",
       "      <td>Daniel</td>\n",
       "      <td>Mejia</td>\n",
       "      <td>749-96-2475</td>\n",
       "      <td>off</td>\n",
       "      <td>354-818-0021x8551</td>\n",
       "      <td>41</td>\n",
       "      <td>NaN</td>\n",
       "    </tr>\n",
       "    <tr>\n",
       "      <th>1</th>\n",
       "      <td>2</td>\n",
       "      <td>Richard</td>\n",
       "      <td>Johnson</td>\n",
       "      <td>660-08-9388</td>\n",
       "      <td>off</td>\n",
       "      <td>108.889.4800x2458</td>\n",
       "      <td>19</td>\n",
       "      <td>NaN</td>\n",
       "    </tr>\n",
       "    <tr>\n",
       "      <th>2</th>\n",
       "      <td>3</td>\n",
       "      <td>Kristi</td>\n",
       "      <td>Fernandez</td>\n",
       "      <td>869-09-5521</td>\n",
       "      <td>off</td>\n",
       "      <td>3246551265</td>\n",
       "      <td>28</td>\n",
       "      <td>NaN</td>\n",
       "    </tr>\n",
       "    <tr>\n",
       "      <th>3</th>\n",
       "      <td>4</td>\n",
       "      <td>Tyler</td>\n",
       "      <td>Freeman</td>\n",
       "      <td>270-34-6727</td>\n",
       "      <td>off</td>\n",
       "      <td>001-806-050-7647x41840</td>\n",
       "      <td>9</td>\n",
       "      <td>NaN</td>\n",
       "    </tr>\n",
       "    <tr>\n",
       "      <th>4</th>\n",
       "      <td>5</td>\n",
       "      <td>Kaitlin</td>\n",
       "      <td>Harrell</td>\n",
       "      <td>509-08-5361</td>\n",
       "      <td>off</td>\n",
       "      <td>0474937466</td>\n",
       "      <td>59</td>\n",
       "      <td>NaN</td>\n",
       "    </tr>\n",
       "  </tbody>\n",
       "</table>\n",
       "</div>"
      ],
      "text/plain": [
       "   id firstname   lastname          ssn holiday_status  \\\n",
       "0   1    Daniel      Mejia  749-96-2475            off   \n",
       "1   2   Richard    Johnson  660-08-9388            off   \n",
       "2   3    Kristi  Fernandez  869-09-5521            off   \n",
       "3   4     Tyler    Freeman  270-34-6727            off   \n",
       "4   5   Kaitlin    Harrell  509-08-5361            off   \n",
       "\n",
       "                    phone  address  supervisor  \n",
       "0       354-818-0021x8551       41         NaN  \n",
       "1       108.889.4800x2458       19         NaN  \n",
       "2              3246551265       28         NaN  \n",
       "3  001-806-050-7647x41840        9         NaN  \n",
       "4              0474937466       59         NaN  "
      ]
     },
     "execution_count": 38,
     "metadata": {},
     "output_type": "execute_result"
    }
   ],
   "source": [
    "employees = pd.read_sql_table(table_name='employee', con=disk_engine)\n",
    "\n",
    "employees.head(5)"
   ]
  },
  {
   "cell_type": "markdown",
   "metadata": {},
   "source": [
    "##### Load Driver Dataframe\n",
    "____"
   ]
  },
  {
   "cell_type": "code",
   "execution_count": 39,
   "metadata": {},
   "outputs": [
    {
     "data": {
      "text/html": [
       "<div>\n",
       "<style scoped>\n",
       "    .dataframe tbody tr th:only-of-type {\n",
       "        vertical-align: middle;\n",
       "    }\n",
       "\n",
       "    .dataframe tbody tr th {\n",
       "        vertical-align: top;\n",
       "    }\n",
       "\n",
       "    .dataframe thead th {\n",
       "        text-align: right;\n",
       "    }\n",
       "</style>\n",
       "<table border=\"1\" class=\"dataframe\">\n",
       "  <thead>\n",
       "    <tr style=\"text-align: right;\">\n",
       "      <th></th>\n",
       "      <th>id</th>\n",
       "      <th>firstname</th>\n",
       "      <th>lastname</th>\n",
       "      <th>email</th>\n",
       "      <th>phone</th>\n",
       "    </tr>\n",
       "  </thead>\n",
       "  <tbody>\n",
       "    <tr>\n",
       "      <th>0</th>\n",
       "      <td>1</td>\n",
       "      <td>Christopher</td>\n",
       "      <td>Patel</td>\n",
       "      <td>calvin11@hotmail.com</td>\n",
       "      <td>870-209-1746x49189</td>\n",
       "    </tr>\n",
       "    <tr>\n",
       "      <th>1</th>\n",
       "      <td>2</td>\n",
       "      <td>Alexis</td>\n",
       "      <td>Benson</td>\n",
       "      <td>rodriguezbrittney@gmail.com</td>\n",
       "      <td>(721)083-4901x665</td>\n",
       "    </tr>\n",
       "    <tr>\n",
       "      <th>2</th>\n",
       "      <td>3</td>\n",
       "      <td>Molly</td>\n",
       "      <td>Young</td>\n",
       "      <td>scole@hotmail.com</td>\n",
       "      <td>0434895465</td>\n",
       "    </tr>\n",
       "    <tr>\n",
       "      <th>3</th>\n",
       "      <td>4</td>\n",
       "      <td>Nicole</td>\n",
       "      <td>Lane</td>\n",
       "      <td>john43@hotmail.com</td>\n",
       "      <td>+1-555-378-4422x1679</td>\n",
       "    </tr>\n",
       "    <tr>\n",
       "      <th>4</th>\n",
       "      <td>5</td>\n",
       "      <td>Mary</td>\n",
       "      <td>Harris</td>\n",
       "      <td>sullivankristen@reyes.info</td>\n",
       "      <td>213-802-0221x06874</td>\n",
       "    </tr>\n",
       "  </tbody>\n",
       "</table>\n",
       "</div>"
      ],
      "text/plain": [
       "   id    firstname lastname                        email                 phone\n",
       "0   1  Christopher    Patel         calvin11@hotmail.com    870-209-1746x49189\n",
       "1   2       Alexis   Benson  rodriguezbrittney@gmail.com     (721)083-4901x665\n",
       "2   3        Molly    Young            scole@hotmail.com            0434895465\n",
       "3   4       Nicole     Lane           john43@hotmail.com  +1-555-378-4422x1679\n",
       "4   5         Mary   Harris   sullivankristen@reyes.info    213-802-0221x06874"
      ]
     },
     "execution_count": 39,
     "metadata": {},
     "output_type": "execute_result"
    }
   ],
   "source": [
    "drivers = pd.read_sql_table(table_name='driver', con=disk_engine)\n",
    "\n",
    "drivers.head(5)"
   ]
  },
  {
   "cell_type": "markdown",
   "metadata": {},
   "source": [
    "##### Load Customer Dataframe\n",
    "____"
   ]
  },
  {
   "cell_type": "code",
   "execution_count": 40,
   "metadata": {},
   "outputs": [
    {
     "data": {
      "text/html": [
       "<div>\n",
       "<style scoped>\n",
       "    .dataframe tbody tr th:only-of-type {\n",
       "        vertical-align: middle;\n",
       "    }\n",
       "\n",
       "    .dataframe tbody tr th {\n",
       "        vertical-align: top;\n",
       "    }\n",
       "\n",
       "    .dataframe thead th {\n",
       "        text-align: right;\n",
       "    }\n",
       "</style>\n",
       "<table border=\"1\" class=\"dataframe\">\n",
       "  <thead>\n",
       "    <tr style=\"text-align: right;\">\n",
       "      <th></th>\n",
       "      <th>id</th>\n",
       "      <th>firstname</th>\n",
       "      <th>lastname</th>\n",
       "      <th>email</th>\n",
       "      <th>phone</th>\n",
       "      <th>address</th>\n",
       "    </tr>\n",
       "  </thead>\n",
       "  <tbody>\n",
       "    <tr>\n",
       "      <th>0</th>\n",
       "      <td>1</td>\n",
       "      <td>Kenneth</td>\n",
       "      <td>King</td>\n",
       "      <td>brandy02@heath.org</td>\n",
       "      <td>0529123086</td>\n",
       "      <td>32</td>\n",
       "    </tr>\n",
       "    <tr>\n",
       "      <th>1</th>\n",
       "      <td>2</td>\n",
       "      <td>Walter</td>\n",
       "      <td>Tanner</td>\n",
       "      <td>szamora@yahoo.com</td>\n",
       "      <td>(049)169-6111</td>\n",
       "      <td>19</td>\n",
       "    </tr>\n",
       "    <tr>\n",
       "      <th>2</th>\n",
       "      <td>3</td>\n",
       "      <td>Geoffrey</td>\n",
       "      <td>Nelson</td>\n",
       "      <td>moorescott@powell-reyes.net</td>\n",
       "      <td>001-019-776-6710x01150</td>\n",
       "      <td>42</td>\n",
       "    </tr>\n",
       "    <tr>\n",
       "      <th>3</th>\n",
       "      <td>4</td>\n",
       "      <td>Adrian</td>\n",
       "      <td>Hill</td>\n",
       "      <td>lindsaycampbell@gmail.com</td>\n",
       "      <td>(854)484-0320x861</td>\n",
       "      <td>6</td>\n",
       "    </tr>\n",
       "    <tr>\n",
       "      <th>4</th>\n",
       "      <td>5</td>\n",
       "      <td>Angela</td>\n",
       "      <td>Moon</td>\n",
       "      <td>ksavage@hotmail.com</td>\n",
       "      <td>+1-188-250-1479x06039</td>\n",
       "      <td>53</td>\n",
       "    </tr>\n",
       "  </tbody>\n",
       "</table>\n",
       "</div>"
      ],
      "text/plain": [
       "   id firstname lastname                        email                   phone  \\\n",
       "0   1   Kenneth     King           brandy02@heath.org              0529123086   \n",
       "1   2    Walter   Tanner            szamora@yahoo.com           (049)169-6111   \n",
       "2   3  Geoffrey   Nelson  moorescott@powell-reyes.net  001-019-776-6710x01150   \n",
       "3   4    Adrian     Hill    lindsaycampbell@gmail.com       (854)484-0320x861   \n",
       "4   5    Angela     Moon          ksavage@hotmail.com   +1-188-250-1479x06039   \n",
       "\n",
       "   address  \n",
       "0       32  \n",
       "1       19  \n",
       "2       42  \n",
       "3        6  \n",
       "4       53  "
      ]
     },
     "execution_count": 40,
     "metadata": {},
     "output_type": "execute_result"
    }
   ],
   "source": [
    "customers = pd.read_sql_table(table_name='customer', con=disk_engine)\n",
    "\n",
    "customers.head(5)"
   ]
  },
  {
   "cell_type": "markdown",
   "metadata": {},
   "source": [
    "##### Add Employee credentials\n",
    "____"
   ]
  },
  {
   "cell_type": "code",
   "execution_count": 41,
   "metadata": {},
   "outputs": [],
   "source": [
    "for ind in employees.index:    \n",
    "    password = hashlib.sha256(faker.password().encode()).hexdigest()\n",
    "    employee = employees['id'][ind].__int__()\n",
    "    role     = 'employee'\n",
    "    \n",
    "    sql = \"INSERT INTO credentials(password, employee_id, role) VALUES (%s, %s, %s)\"\n",
    "    values = (password, employee, role)\n",
    "    \n",
    "    disk_engine.execute(sql, values)       \n",
    " "
   ]
  },
  {
   "cell_type": "markdown",
   "metadata": {},
   "source": [
    "##### Add Driver credentials\n",
    "____"
   ]
  },
  {
   "cell_type": "code",
   "execution_count": 42,
   "metadata": {},
   "outputs": [],
   "source": [
    "for ind in drivers.index:    \n",
    "    password = hashlib.sha256(faker.password().encode()).hexdigest()\n",
    "    driver   = drivers['id'][ind].__int__()\n",
    "    role     = 'driver'\n",
    "    \n",
    "    sql = \"INSERT INTO credentials(password, driver_id, role) VALUES (%s, %s, %s)\"\n",
    "    values = (password, driver, role)\n",
    "    \n",
    "    disk_engine.execute(sql, values)       "
   ]
  },
  {
   "cell_type": "markdown",
   "metadata": {},
   "source": [
    "##### Add Customer credentials\n",
    "____"
   ]
  },
  {
   "cell_type": "code",
   "execution_count": 43,
   "metadata": {},
   "outputs": [],
   "source": [
    "for ind in customers.index:    \n",
    "    password = hashlib.sha256(faker.password().encode()).hexdigest()\n",
    "    driver   = customers['id'][ind].__int__()\n",
    "    role     = 'customer'\n",
    "    \n",
    "    sql = \"INSERT INTO credentials(password, customer_id, role) VALUES (%s, %s, %s)\"\n",
    "    values = (password, driver, role)\n",
    "    \n",
    "    disk_engine.execute(sql, values)       "
   ]
  },
  {
   "cell_type": "code",
   "execution_count": null,
   "metadata": {},
   "outputs": [],
   "source": []
  },
  {
   "cell_type": "code",
   "execution_count": null,
   "metadata": {},
   "outputs": [],
   "source": []
  }
 ],
 "metadata": {
  "kernelspec": {
   "display_name": "Python 3",
   "language": "python",
   "name": "python3"
  },
  "language_info": {
   "codemirror_mode": {
    "name": "ipython",
    "version": 3
   },
   "file_extension": ".py",
   "mimetype": "text/x-python",
   "name": "python",
   "nbconvert_exporter": "python",
   "pygments_lexer": "ipython3",
   "version": "3.7.6"
  }
 },
 "nbformat": 4,
 "nbformat_minor": 4
}
