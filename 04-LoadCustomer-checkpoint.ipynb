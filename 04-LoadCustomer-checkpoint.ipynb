{
 "cells": [
  {
   "cell_type": "markdown",
   "metadata": {},
   "source": [
    "##### Dependencies\n",
    "____"
   ]
  },
  {
   "cell_type": "code",
   "execution_count": 6,
   "metadata": {},
   "outputs": [],
   "source": [
    "import numpy as np\n",
    "import pandas as pd\n",
    "import sqlalchemy as db\n",
    "import datetime\n",
    "import random\n",
    "\n",
    "from faker import Faker"
   ]
  },
  {
   "cell_type": "markdown",
   "metadata": {},
   "source": [
    "##### Database connection\n",
    "____"
   ]
  },
  {
   "cell_type": "code",
   "execution_count": 7,
   "metadata": {},
   "outputs": [],
   "source": [
    "g_params = {\n",
    "    'dbuser'   : 'csc4710',\n",
    "    'dbpwd'    : 'password',\n",
    "    'dbserver' : 'localhost',\n",
    "    'dbport'   : 3306,\n",
    "    'dbname'   : 'CSC4710'\n",
    "}\n",
    "\n",
    "disk_engine = db.create_engine(f'mysql+pymysql://{g_params[\"dbuser\"]}:{g_params[\"dbpwd\"]}@{g_params[\"dbserver\"]}:{g_params[\"dbport\"]}/{g_params[\"dbname\"]}', echo=False)\n",
    "disk_engine.connect().connection.ping()"
   ]
  },
  {
   "cell_type": "markdown",
   "metadata": {},
   "source": [
    "##### Load Address Dataframe\n",
    "____"
   ]
  },
  {
   "cell_type": "code",
   "execution_count": 8,
   "metadata": {},
   "outputs": [
    {
     "data": {
      "text/html": [
       "<div>\n",
       "<style scoped>\n",
       "    .dataframe tbody tr th:only-of-type {\n",
       "        vertical-align: middle;\n",
       "    }\n",
       "\n",
       "    .dataframe tbody tr th {\n",
       "        vertical-align: top;\n",
       "    }\n",
       "\n",
       "    .dataframe thead th {\n",
       "        text-align: right;\n",
       "    }\n",
       "</style>\n",
       "<table border=\"1\" class=\"dataframe\">\n",
       "  <thead>\n",
       "    <tr style=\"text-align: right;\">\n",
       "      <th></th>\n",
       "      <th>id</th>\n",
       "      <th>street</th>\n",
       "      <th>city</th>\n",
       "      <th>state</th>\n",
       "      <th>zipcode</th>\n",
       "      <th>latitude</th>\n",
       "      <th>longitude</th>\n",
       "    </tr>\n",
       "  </thead>\n",
       "  <tbody>\n",
       "    <tr>\n",
       "      <th>0</th>\n",
       "      <td>1</td>\n",
       "      <td>2175 PIEDMONT RD NE</td>\n",
       "      <td>Atlanta</td>\n",
       "      <td>GA</td>\n",
       "      <td>30324-4128</td>\n",
       "      <td>33.817098</td>\n",
       "      <td>-84.366785</td>\n",
       "    </tr>\n",
       "    <tr>\n",
       "      <th>1</th>\n",
       "      <td>2</td>\n",
       "      <td>306 LUCKIE ST NW</td>\n",
       "      <td>Atlanta</td>\n",
       "      <td>GA</td>\n",
       "      <td>30313-1706</td>\n",
       "      <td>33.762858</td>\n",
       "      <td>-84.395977</td>\n",
       "    </tr>\n",
       "    <tr>\n",
       "      <th>2</th>\n",
       "      <td>3</td>\n",
       "      <td>227 WELLINGTON ST SW</td>\n",
       "      <td>Atlanta</td>\n",
       "      <td>GA</td>\n",
       "      <td>30314-2240</td>\n",
       "      <td>33.749008</td>\n",
       "      <td>-84.438294</td>\n",
       "    </tr>\n",
       "    <tr>\n",
       "      <th>3</th>\n",
       "      <td>4</td>\n",
       "      <td>1125 CASCADE CIR SW @ZONE 4</td>\n",
       "      <td>Atlanta</td>\n",
       "      <td>GA</td>\n",
       "      <td>30311-2817</td>\n",
       "      <td>33.724948</td>\n",
       "      <td>-84.449931</td>\n",
       "    </tr>\n",
       "    <tr>\n",
       "      <th>4</th>\n",
       "      <td>5</td>\n",
       "      <td>469 FAIR ST SW</td>\n",
       "      <td>Atlanta</td>\n",
       "      <td>GA</td>\n",
       "      <td>30313-1203</td>\n",
       "      <td>33.748725</td>\n",
       "      <td>-84.403206</td>\n",
       "    </tr>\n",
       "  </tbody>\n",
       "</table>\n",
       "</div>"
      ],
      "text/plain": [
       "   id                       street     city state     zipcode   latitude  \\\n",
       "0   1          2175 PIEDMONT RD NE  Atlanta    GA  30324-4128  33.817098   \n",
       "1   2             306 LUCKIE ST NW  Atlanta    GA  30313-1706  33.762858   \n",
       "2   3         227 WELLINGTON ST SW  Atlanta    GA  30314-2240  33.749008   \n",
       "3   4  1125 CASCADE CIR SW @ZONE 4  Atlanta    GA  30311-2817  33.724948   \n",
       "4   5               469 FAIR ST SW  Atlanta    GA  30313-1203  33.748725   \n",
       "\n",
       "   longitude  \n",
       "0 -84.366785  \n",
       "1 -84.395977  \n",
       "2 -84.438294  \n",
       "3 -84.449931  \n",
       "4 -84.403206  "
      ]
     },
     "execution_count": 8,
     "metadata": {},
     "output_type": "execute_result"
    }
   ],
   "source": [
    "address = pd.read_sql_table(table_name='address', con=disk_engine)\n",
    "\n",
    "address.head(5)"
   ]
  },
  {
   "cell_type": "markdown",
   "metadata": {},
   "source": [
    "##### Add Customer\n",
    "____"
   ]
  },
  {
   "cell_type": "code",
   "execution_count": 9,
   "metadata": {},
   "outputs": [],
   "source": [
    "total = 100\n",
    "faker = Faker(locale='en_US')\n",
    "\n",
    "for i in range(1, total+1):\n",
    "    firstname  = faker.first_name()\n",
    "    lastname   = faker.last_name()\n",
    "    email      = faker.email()\n",
    "    phone      = faker.phone_number()\n",
    "    cust_addr  = int(address['id'].sample(n=1).values[0])\n",
    "    \n",
    "    sql = \"INSERT INTO customer(firstname, lastname, email, phone, address) VALUES (%s, %s, %s, %s, %s)\"\n",
    "    values = (firstname, lastname, email, phone, cust_addr)\n",
    "    \n",
    "    disk_engine.execute(sql, values)"
   ]
  },
  {
   "cell_type": "code",
   "execution_count": null,
   "metadata": {},
   "outputs": [],
   "source": []
  }
 ],
 "metadata": {
  "kernelspec": {
   "display_name": "Python 3",
   "language": "python",
   "name": "python3"
  },
  "language_info": {
   "codemirror_mode": {
    "name": "ipython",
    "version": 3
   },
   "file_extension": ".py",
   "mimetype": "text/x-python",
   "name": "python",
   "nbconvert_exporter": "python",
   "pygments_lexer": "ipython3",
   "version": "3.7.6"
  }
 },
 "nbformat": 4,
 "nbformat_minor": 4
}
