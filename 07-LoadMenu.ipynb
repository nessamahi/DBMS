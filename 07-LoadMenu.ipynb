{
 "cells": [
  {
   "cell_type": "markdown",
   "metadata": {},
   "source": [
    "##### Dependencies\n",
    "____"
   ]
  },
  {
   "cell_type": "code",
   "execution_count": 12,
   "metadata": {},
   "outputs": [],
   "source": [
    "import numpy as np\n",
    "import pandas as pd\n",
    "import sqlalchemy as db"
   ]
  },
  {
   "cell_type": "markdown",
   "metadata": {},
   "source": [
    "##### Database connection\n",
    "____"
   ]
  },
  {
   "cell_type": "code",
   "execution_count": 2,
   "metadata": {},
   "outputs": [],
   "source": [
    "g_params = {\n",
    "    'dbuser'   : 'csc4710',\n",
    "    'dbpwd'    : 'password',\n",
    "    'dbserver' : 'localhost',\n",
    "    'dbport'   : 3306,\n",
    "    'dbname'   : 'CSC4710'\n",
    "}\n",
    "\n",
    "disk_engine = db.create_engine(f'mysql+pymysql://{g_params[\"dbuser\"]}:{g_params[\"dbpwd\"]}@{g_params[\"dbserver\"]}:{g_params[\"dbport\"]}/{g_params[\"dbname\"]}', echo=False)\n",
    "disk_engine.connect().connection.ping()"
   ]
  },
  {
   "cell_type": "markdown",
   "metadata": {},
   "source": [
    "##### Add Ingredients\n",
    "____"
   ]
  },
  {
   "cell_type": "code",
   "execution_count": 9,
   "metadata": {},
   "outputs": [],
   "source": [
    "ingredients = [\n",
    "    {\n",
    "        'name'     : 'baked potato',\n",
    "        'price'    : 3.00,\n",
    "        'calories' : 100,\n",
    "        'size'     : 400,\n",
    "        'unit'     : 'g'\n",
    "    },\n",
    "    {\n",
    "        'name'     : 'broccoli',\n",
    "        'price'    : 1.00,\n",
    "        'calories' : 30, \n",
    "        'size'     : 50,\n",
    "        'unit'     : 'g'\n",
    "    },\n",
    "    {\n",
    "        'name'     : 'salmon',\n",
    "        'price'    : 12.99,\n",
    "        'calories' : 400,\n",
    "        'size'     : 600,\n",
    "        'unit'     : 'g'\n",
    "    },\n",
    "    {\n",
    "        'name'     : 'fried chicken',\n",
    "        'price'    : 7.99,\n",
    "        'calories' : 400,\n",
    "        'size'     : 400,\n",
    "        'unit'     : 'g'\n",
    "    },\n",
    "    {\n",
    "        'name'     : 'steak',\n",
    "        'price'    : 16.99,\n",
    "        'calories' : 800,\n",
    "        'size'     : 800,\n",
    "        'unit'     : 'g'\n",
    "    },    \n",
    "    {\n",
    "        'name'     : 'pork',\n",
    "        'price'    : 14.99,\n",
    "        'calories' : 800,\n",
    "        'size'     : 800,\n",
    "        'unit'     : 'g'\n",
    "    },        \n",
    "    {\n",
    "        'name'     : 'pasta',\n",
    "        'price'    : 11.99,\n",
    "        'calories' : 800,\n",
    "        'size'     : 800,\n",
    "        'unit'     : 'g'\n",
    "    },            \n",
    "]\n",
    "\n",
    "for item in ingredients:\n",
    "    sql = \"INSERT INTO ingredients(name, price, calories, size, unit) VALUES (%s, %s, %s, %s, %s)\"\n",
    "    values = (item['name'], item['price'], item['calories'], item['size'], item['unit'])\n",
    "    \n",
    "    disk_engine.execute(sql, values)           \n"
   ]
  },
  {
   "cell_type": "markdown",
   "metadata": {},
   "source": [
    "##### Add Menu\n",
    "____"
   ]
  },
  {
   "cell_type": "code",
   "execution_count": 10,
   "metadata": {},
   "outputs": [],
   "source": [
    "menus = [\n",
    "    {\n",
    "        'restaurant' : 1, \n",
    "        'title'      : 'Combo 1',\n",
    "        'content'    : 'Super Combo 1'        \n",
    "    },\n",
    "    {\n",
    "        'restaurant' : 1, \n",
    "        'title'      : 'Combo 2',\n",
    "        'content'    : 'Super Combo 2'        \n",
    "    },\n",
    "    {\n",
    "        'restaurant' : 1, \n",
    "        'title'      : 'Combo 3',\n",
    "        'content'    : 'Super Combo 3'        \n",
    "    },    \n",
    "]\n",
    "\n",
    "for item in menus:\n",
    "    sql = \"INSERT INTO menu(restaurant_id, title, content) VALUES (%s, %s, %s)\"\n",
    "    values = (item['restaurant'], item['title'], item['content'])\n",
    "    \n",
    "    disk_engine.execute(sql, values)           \n"
   ]
  },
  {
   "cell_type": "markdown",
   "metadata": {},
   "source": [
    "##### Add Menu Item\n",
    "____"
   ]
  },
  {
   "cell_type": "code",
   "execution_count": 11,
   "metadata": {},
   "outputs": [],
   "source": [
    "menu_items = [\n",
    "    {\n",
    "        'menu_id'       : 1, \n",
    "        'ingredient_id' : 4       \n",
    "    },\n",
    "    {\n",
    "        'menu_id'       : 1, \n",
    "        'ingredient_id' : 3       \n",
    "    },\n",
    "    {\n",
    "        'menu_id'       : 2, \n",
    "        'ingredient_id' : 6       \n",
    "    },\n",
    "    {\n",
    "        'menu_id'       : 2, \n",
    "        'ingredient_id' : 8       \n",
    "    },\n",
    "    {\n",
    "        'menu_id'       : 3, \n",
    "        'ingredient_id' : 5       \n",
    "    },\n",
    "    {\n",
    "        'menu_id'       : 3, \n",
    "        'ingredient_id' : 2       \n",
    "    },    \n",
    "]\n",
    "\n",
    "for item in menu_items:\n",
    "    sql = \"INSERT INTO menu_items(menu_id, ingredient_id) VALUES (%s, %s)\"\n",
    "    values = (item['menu_id'], item['ingredient_id'])\n",
    "    \n",
    "    disk_engine.execute(sql, values)           \n"
   ]
  },
  {
   "cell_type": "code",
   "execution_count": null,
   "metadata": {},
   "outputs": [],
   "source": []
  }
 ],
 "metadata": {
  "kernelspec": {
   "display_name": "Python 3",
   "language": "python",
   "name": "python3"
  },
  "language_info": {
   "codemirror_mode": {
    "name": "ipython",
    "version": 3
   },
   "file_extension": ".py",
   "mimetype": "text/x-python",
   "name": "python",
   "nbconvert_exporter": "python",
   "pygments_lexer": "ipython3",
   "version": "3.7.6"
  }
 },
 "nbformat": 4,
 "nbformat_minor": 4
}
